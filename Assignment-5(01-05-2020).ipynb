{
 "cells": [
  {
   "cell_type": "markdown",
   "metadata": {},
   "source": [
    "## CSE-221710305046-Adarsh.K"
   ]
  },
  {
   "cell_type": "code",
   "execution_count": null,
   "metadata": {},
   "outputs": [
    {
     "name": "stdout",
     "output_type": "stream",
     "text": [
      "New password is:\n",
      "becamegovernment46^\n",
      "type \"again\" for new password\n",
      "\n"
     ]
    }
   ],
   "source": [
    "import string\n",
    "import random\n",
    "verbs={\"beat\",\"became\",\"began\",\"bet\",\"drew\",\"dreamed\",\"have\",\"hide\",\"slap\",\"fought\",\"armed\"}\n",
    "nouns={\"history\",\"way\",\"art\",\"world\",\"information\",\"two\",\"family\",\"government\",\"health\",\"system\"}\n",
    "a=string.punctuation\n",
    "verbs=list(verbs)\n",
    "nouns=list(nouns)\n",
    "while(1):\n",
    "    print(\"New password is:\\n\"+\n",
    "    random.choice(verbs)+random.choice(nouns)+\n",
    "    str(random.randint(0,101))+random.choice(a)+\n",
    "    \"\\ntype \\\"again\\\" for new password\\n\")\n",
    "   \n",
    "    \n",
    "    z=input(\"enter the string:\")\n",
    "    if(z!='again'):\n",
    "          break\n",
    "\n",
    "\n"
   ]
  },
  {
   "cell_type": "code",
   "execution_count": null,
   "metadata": {},
   "outputs": [],
   "source": []
  },
  {
   "cell_type": "markdown",
   "metadata": {},
   "source": []
  },
  {
   "cell_type": "code",
   "execution_count": null,
   "metadata": {},
   "outputs": [],
   "source": []
  }
 ],
 "metadata": {
  "kernelspec": {
   "display_name": "Python 3",
   "language": "python",
   "name": "python3"
  },
  "language_info": {
   "codemirror_mode": {
    "name": "ipython",
    "version": 3
   },
   "file_extension": ".py",
   "mimetype": "text/x-python",
   "name": "python",
   "nbconvert_exporter": "python",
   "pygments_lexer": "ipython3",
   "version": "3.7.4"
  }
 },
 "nbformat": 4,
 "nbformat_minor": 2
}
