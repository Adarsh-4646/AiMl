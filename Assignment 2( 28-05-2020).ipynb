{
 "cells": [
  {
   "cell_type": "markdown",
   "metadata": {},
   "source": [
    "# CSE-221710305046-ADARSH.K"
   ]
  },
  {
   "cell_type": "markdown",
   "metadata": {},
   "source": [
    "## Question 1:\n",
    "```Accept a string from the user and count no.of vowels,consonants and special characters```\n"
   ]
  },
  {
   "cell_type": "markdown",
   "metadata": {},
   "source": []
  },
  {
   "cell_type": "code",
   "execution_count": 2,
   "metadata": {},
   "outputs": [
    {
     "name": "stdout",
     "output_type": "stream",
     "text": [
      "Total number of vowel and consonant are\n",
      "5\n",
      "4\n",
      "2\n"
     ]
    }
   ],
   "source": [
    "vcount = 0;  \n",
    "ccount = 0;\n",
    "scount=  0;\n",
    "str = \"how are you\";  \n",
    "   \n",
    "#Converting entire string to lower case to reduce the comparisons  \n",
    "str = str.lower();  \n",
    "for i in range(0,len(str)):   \n",
    "    #Checks whether a character is a vowel  \n",
    "    if str[i] in ('a',\"e\",\"i\",\"o\",\"u\"):  \n",
    "        vcount = vcount + 1;  \n",
    "    elif (str[i] >= 'a' and str[i] <= 'z'):  \n",
    "        ccount = ccount + 1;\n",
    "    else:\n",
    "        scount=scount+1;\n",
    "print(\"Total number of vowel and consonant are\" );  \n",
    "print(vcount);  \n",
    "print(ccount);\n",
    "print(scount);\n"
   ]
  },
  {
   "cell_type": "markdown",
   "metadata": {},
   "source": [
    "## Question 2:\n",
    "\n",
    " ```count the no.of pairs of a in the given string(Infosys InfyTQ)\n",
    "    string →  \"abbaaccbbaaa\"\n",
    "    output →  2```\n"
   ]
  },
  {
   "cell_type": "code",
   "execution_count": 3,
   "metadata": {},
   "outputs": [
    {
     "name": "stdout",
     "output_type": "stream",
     "text": [
      "enter the stringaaababa\n",
      "1\n"
     ]
    }
   ],
   "source": [
    "n=input(\"enter the string\")\n",
    "a1=0\n",
    "a2=0\n",
    "\n",
    "for i in n:\n",
    "    if i=='a' and a1==0:\n",
    "        a1=1\n",
    "    elif i=='a' and a1==1:\n",
    "        a1=0\n",
    "        a2=a2+1\n",
    "    else:\n",
    "        a1=0\n",
    "        \n",
    "print(a2)"
   ]
  },
  {
   "cell_type": "markdown",
   "metadata": {},
   "source": [
    "## Question 3:\n",
    "    ``` Test case1:\n",
    "        string →  \"((((()()()))))()\"\n",
    "        output →  8\n",
    "    Test case2:\n",
    "        string →  \"((()))()\"\n",
    "        Output →  4 ```\n"
   ]
  },
  {
   "cell_type": "code",
   "execution_count": 4,
   "metadata": {},
   "outputs": [
    {
     "name": "stdout",
     "output_type": "stream",
     "text": [
      "enter the string((()))\n",
      "3\n"
     ]
    }
   ],
   "source": [
    "n=input(\"enter the string\")\n",
    "z=0\n",
    "x=0\n",
    "for i in n:\n",
    "    if i=='(':\n",
    "        z=z+1\n",
    "    elif i==')':\n",
    "        x=x+1\n",
    "        \n",
    "if(z==x):\n",
    "    print(z)\n",
    "else:\n",
    "    print(\"not balanced\")\n",
    "        \n",
    "\n",
    "    "
   ]
  },
  {
   "cell_type": "markdown",
   "metadata": {},
   "source": [
    "## Question 4:\n",
    "```Read the input as two limits and Print the output as Palindrome count between the two limits\n",
    "Example #1; Input : 1 10 Output : 9\n",
    " Example #2: Input : 1 100 Output : 18```\n"
   ]
  },
  {
   "cell_type": "code",
   "execution_count": 1,
   "metadata": {},
   "outputs": [
    {
     "name": "stdout",
     "output_type": "stream",
     "text": [
      "1\n",
      "100\n",
      "18\n"
     ]
    }
   ],
   "source": [
    "n=int(input())\n",
    "z=int(input())\n",
    "c=0\n",
    "for i in range(n,z):\n",
    "    s=str(i)\n",
    "    if s==s[::-1]:\n",
    "        c=c+1\n",
    "print(c)\n",
    "    "
   ]
  },
  {
   "cell_type": "markdown",
   "metadata": {},
   "source": [
    "## Question 5:\n",
    "\n",
    " ```Accept a number as an input and check whether the given number is palindrome or not\n",
    "if it is a palindrome number print the number on the screen\n",
    "if it is not a palindrome number reverse that number and add it to previous number repeat this until will get a palindrome number and print that palindrome number on the screen\n",
    "input: 127\n",
    "output: 848```\n"
   ]
  },
  {
   "cell_type": "code",
   "execution_count": 2,
   "metadata": {},
   "outputs": [
    {
     "name": "stdout",
     "output_type": "stream",
     "text": [
      "enter the value:234\n",
      "666\n"
     ]
    }
   ],
   "source": [
    "\n",
    "a=(input(\"enter the value:\"))\n",
    "if a==a[::-1]:\n",
    "    print(\"the palindrome is:\",a)\n",
    "else:\n",
    "    b=a[::-1]\n",
    "    c=int(a)\n",
    "    d=int(b)\n",
    "    e=c+d\n",
    "    print(e)"
   ]
  },
  {
   "cell_type": "markdown",
   "metadata": {},
   "source": [
    "## Question 6:\n",
    "```input:orange  →   output : puboif```\n",
    "\n"
   ]
  },
  {
   "cell_type": "code",
   "execution_count": 3,
   "metadata": {},
   "outputs": [
    {
     "name": "stdout",
     "output_type": "stream",
     "text": [
      "enter string:dg\n"
     ]
    },
    {
     "ename": "TypeError",
     "evalue": "unsupported operand type(s) for +: 'int' and 'str'",
     "output_type": "error",
     "traceback": [
      "\u001b[1;31m---------------------------------------------------------------------------\u001b[0m",
      "\u001b[1;31mTypeError\u001b[0m                                 Traceback (most recent call last)",
      "\u001b[1;32m<ipython-input-3-8d9f5bbf6908>\u001b[0m in \u001b[0;36m<module>\u001b[1;34m\u001b[0m\n\u001b[0;32m      8\u001b[0m         \u001b[1;32mwhile\u001b[0m \u001b[0mchr\u001b[0m\u001b[1;33m(\u001b[0m\u001b[0mt\u001b[0m\u001b[1;33m)\u001b[0m \u001b[1;32mnot\u001b[0m \u001b[1;32min\u001b[0m \u001b[1;34m'aeiou'\u001b[0m\u001b[1;33m:\u001b[0m\u001b[1;33m\u001b[0m\u001b[1;33m\u001b[0m\u001b[0m\n\u001b[0;32m      9\u001b[0m             \u001b[0mt\u001b[0m\u001b[1;33m=\u001b[0m\u001b[0mt\u001b[0m\u001b[1;33m+\u001b[0m\u001b[1;36m1\u001b[0m\u001b[1;33m\u001b[0m\u001b[1;33m\u001b[0m\u001b[0m\n\u001b[1;32m---> 10\u001b[1;33m         \u001b[0mc\u001b[0m\u001b[1;33m=\u001b[0m\u001b[0mc\u001b[0m\u001b[1;33m+\u001b[0m\u001b[0mchr\u001b[0m\u001b[1;33m(\u001b[0m\u001b[0mt\u001b[0m\u001b[1;33m)\u001b[0m\u001b[1;33m\u001b[0m\u001b[1;33m\u001b[0m\u001b[0m\n\u001b[0m\u001b[0;32m     11\u001b[0m \u001b[0mprint\u001b[0m\u001b[1;33m(\u001b[0m\u001b[0mc\u001b[0m\u001b[1;33m)\u001b[0m\u001b[1;33m\u001b[0m\u001b[1;33m\u001b[0m\u001b[0m\n",
      "\u001b[1;31mTypeError\u001b[0m: unsupported operand type(s) for +: 'int' and 'str'"
     ]
    }
   ],
   "source": [
    "s=input(\"enter string:\")\n",
    "\n",
    "for i in s:\n",
    "    if i=='a'or i=='e'or i=='i'or i=='o'or i=='u':\n",
    "        c=c+chr(ord(i)+1)\n",
    "    else:\n",
    "        t=ord(i)\n",
    "        while chr(t) not in 'aeiou':\n",
    "            t=t+1\n",
    "        c=c+chr(t)\n",
    "print(c)        \n"
   ]
  },
  {
   "cell_type": "markdown",
   "metadata": {},
   "source": [
    "## Question 7:\n",
    "\n",
    "```Accept input as a string and display sum of digits as the output \n",
    "input:Appli123cation456 \n",
    "Output: 21```\n"
   ]
  },
  {
   "cell_type": "code",
   "execution_count": 5,
   "metadata": {},
   "outputs": [
    {
     "name": "stdout",
     "output_type": "stream",
     "text": [
      "enter a stringabc234\n",
      "9\n"
     ]
    }
   ],
   "source": [
    "n= input(\"enter a string\")\n",
    "v=0\n",
    "for i in n:\n",
    "    if(i.isdigit()):\n",
    "        v=v+int(i)\n",
    "print(v)"
   ]
  },
  {
   "cell_type": "markdown",
   "metadata": {},
   "source": [
    "### Question 8:\n",
    "\n",
    "``` Write a program to prompt for a score between 0.0 and 1.0. If the score is out of range, print an error. If the score is between 0.0 and 1.0, print a grade using the following table:\n",
    "Score Grade\n",
    "\n",
    ">= 0.9 A\n",
    ">= 0.8 B\n",
    ">= 0.7 C\n",
    ">= 0.6 D\n",
    "< 0.6 F\n",
    "\n",
    "If the user enters a value out of range, print a suitable error message and exit. For the test, enter a score of 0.85 ```\n"
   ]
  },
  {
   "cell_type": "code",
   "execution_count": 9,
   "metadata": {},
   "outputs": [
    {
     "name": "stdout",
     "output_type": "stream",
     "text": [
      "0.85\n",
      "B\n"
     ]
    }
   ],
   "source": [
    "n=float(input())\n",
    "if n>1.0 or n<0.0:\n",
    "    print(\"error\")\n",
    "elif n>=0.9:\n",
    "    print('A')\n",
    "elif n>=0.8:\n",
    "    print('B')\n",
    "elif n>=0.7:\n",
    "    print('C')\n",
    "elif n>=0.6:\n",
    "    print('D')\n",
    "else:\n",
    "    print('F')\n",
    "    \n",
    "        \n"
   ]
  },
  {
   "cell_type": "markdown",
   "metadata": {},
   "source": [
    "### Question 9:\n",
    "```Write a Python program which iterates the integers from 1 to 50. For multiples of three print \"Fizz\" instead of the number and for the multiples of five print \"Buzz\". For numbers which are multiples of both three and five print \"FizzBuzz\".\n",
    "Sample Output :\n",
    "fizzbuzz\n",
    "1\n",
    "2\n",
    "fizz\n",
    "4\n",
    "buzz```\n"
   ]
  },
  {
   "cell_type": "code",
   "execution_count": 12,
   "metadata": {},
   "outputs": [
    {
     "name": "stdout",
     "output_type": "stream",
     "text": [
      "1 \n",
      "\n",
      "2 \n",
      "\n",
      "Fizz\n",
      "\n",
      "4 \n",
      "\n",
      "Buzz\n",
      "\n",
      "Fizz\n",
      "\n",
      "7 \n",
      "\n",
      "8 \n",
      "\n",
      "Fizz\n",
      "\n",
      "Buzz\n",
      "\n",
      "11 \n",
      "\n",
      "Fizz\n",
      "\n",
      "13 \n",
      "\n",
      "14 \n",
      "\n",
      "FizzBuzz\n",
      "\n",
      "16 \n",
      "\n",
      "17 \n",
      "\n",
      "Fizz\n",
      "\n",
      "19 \n",
      "\n",
      "Buzz\n",
      "\n",
      "Fizz\n",
      "\n",
      "22 \n",
      "\n",
      "23 \n",
      "\n",
      "Fizz\n",
      "\n",
      "Buzz\n",
      "\n",
      "26 \n",
      "\n",
      "Fizz\n",
      "\n",
      "28 \n",
      "\n",
      "29 \n",
      "\n",
      "FizzBuzz\n",
      "\n",
      "31 \n",
      "\n",
      "32 \n",
      "\n",
      "Fizz\n",
      "\n",
      "34 \n",
      "\n",
      "Buzz\n",
      "\n",
      "Fizz\n",
      "\n",
      "37 \n",
      "\n",
      "38 \n",
      "\n",
      "Fizz\n",
      "\n",
      "Buzz\n",
      "\n",
      "41 \n",
      "\n",
      "Fizz\n",
      "\n",
      "43 \n",
      "\n",
      "44 \n",
      "\n",
      "FizzBuzz\n",
      "\n",
      "46 \n",
      "\n",
      "47 \n",
      "\n",
      "Fizz\n",
      "\n",
      "49 \n",
      "\n",
      "Buzz\n",
      "\n"
     ]
    }
   ],
   "source": [
    "for i in range(1,51):\n",
    "    if i%3==0 and i%5==0:\n",
    "        print(\"FizzBuzz\\n\")\n",
    "    elif i%3==0:\n",
    "        print(\"Fizz\\n\")\n",
    "    elif i%5==0:\n",
    "        print(\"Buzz\\n\")\n",
    "    else:\n",
    "        print(i,\"\\n\")"
   ]
  },
  {
   "cell_type": "markdown",
   "metadata": {},
   "source": [
    "### Question 10:\n",
    "```Write a Python program to find the median of three values.\n",
    "Expected Output:\n",
    "Input first number: 26                                            \n",
    "Input second number: 15                                                \n",
    "Input third number: 29                                                  \n",
    "The median is 26```\n",
    "\n"
   ]
  },
  {
   "cell_type": "code",
   "execution_count": 13,
   "metadata": {},
   "outputs": [
    {
     "name": "stdout",
     "output_type": "stream",
     "text": [
      "26\n",
      "15\n",
      "29\n",
      "The median is 26\n"
     ]
    }
   ],
   "source": [
    "a = (input())\n",
    "b = (input())\n",
    "c = (input())\n",
    "if a > b:\n",
    "    if a < c:\n",
    "        median = a\n",
    "    elif b > c:\n",
    "        median = b\n",
    "    else:\n",
    "        median = c\n",
    "else:\n",
    "    if a > c:\n",
    "        median = a\n",
    "    elif b < c:\n",
    "        median = b\n",
    "    else:\n",
    "        median = c\n",
    "\n",
    "print(\"The median is\", median)"
   ]
  },
  {
   "cell_type": "code",
   "execution_count": null,
   "metadata": {},
   "outputs": [],
   "source": []
  }
 ],
 "metadata": {
  "kernelspec": {
   "display_name": "Python 3",
   "language": "python",
   "name": "python3"
  },
  "language_info": {
   "codemirror_mode": {
    "name": "ipython",
    "version": 3
   },
   "file_extension": ".py",
   "mimetype": "text/x-python",
   "name": "python",
   "nbconvert_exporter": "python",
   "pygments_lexer": "ipython3",
   "version": "3.7.4"
  }
 },
 "nbformat": 4,
 "nbformat_minor": 2
}
