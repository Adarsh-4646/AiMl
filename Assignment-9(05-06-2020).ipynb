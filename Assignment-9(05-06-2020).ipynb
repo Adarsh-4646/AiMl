{
 "cells": [
  {
   "cell_type": "markdown",
   "metadata": {},
   "source": [
    "## CSE-221710305046-ADARSH KASULA"
   ]
  },
  {
   "cell_type": "markdown",
   "metadata": {},
   "source": [
    "### Question 1:\n",
    "```[Data Series] \n",
    "Write a Python program to add, subtract, multiple and divide two Pandas Series. \n",
    "Sample Series: \n",
    "[2, 4, 6, 8, 10], [1, 3, 5, 7, 9]\n",
    "Sample Output:\n",
    "[2, 4, 6, 8, 10] + [1, 3, 5, 7, 9] = [3, 7, 11, 15, 19]```\n"
   ]
  },
  {
   "cell_type": "code",
   "execution_count": 10,
   "metadata": {},
   "outputs": [
    {
     "data": {
      "text/html": [
       "<div>\n",
       "<style scoped>\n",
       "    .dataframe tbody tr th:only-of-type {\n",
       "        vertical-align: middle;\n",
       "    }\n",
       "\n",
       "    .dataframe tbody tr th {\n",
       "        vertical-align: top;\n",
       "    }\n",
       "\n",
       "    .dataframe thead th {\n",
       "        text-align: right;\n",
       "    }\n",
       "</style>\n",
       "<table border=\"1\" class=\"dataframe\">\n",
       "  <thead>\n",
       "    <tr style=\"text-align: right;\">\n",
       "      <th></th>\n",
       "      <th>Series1</th>\n",
       "      <th>Series2</th>\n",
       "      <th>Addition</th>\n",
       "    </tr>\n",
       "  </thead>\n",
       "  <tbody>\n",
       "    <tr>\n",
       "      <td>0</td>\n",
       "      <td>2</td>\n",
       "      <td>1</td>\n",
       "      <td>3</td>\n",
       "    </tr>\n",
       "    <tr>\n",
       "      <td>1</td>\n",
       "      <td>4</td>\n",
       "      <td>3</td>\n",
       "      <td>7</td>\n",
       "    </tr>\n",
       "    <tr>\n",
       "      <td>2</td>\n",
       "      <td>6</td>\n",
       "      <td>5</td>\n",
       "      <td>11</td>\n",
       "    </tr>\n",
       "    <tr>\n",
       "      <td>3</td>\n",
       "      <td>8</td>\n",
       "      <td>7</td>\n",
       "      <td>15</td>\n",
       "    </tr>\n",
       "    <tr>\n",
       "      <td>4</td>\n",
       "      <td>10</td>\n",
       "      <td>9</td>\n",
       "      <td>19</td>\n",
       "    </tr>\n",
       "  </tbody>\n",
       "</table>\n",
       "</div>"
      ],
      "text/plain": [
       "   Series1  Series2  Addition\n",
       "0        2        1         3\n",
       "1        4        3         7\n",
       "2        6        5        11\n",
       "3        8        7        15\n",
       "4       10        9        19"
      ]
     },
     "execution_count": 10,
     "metadata": {},
     "output_type": "execute_result"
    }
   ],
   "source": [
    "import pandas as pd\n",
    "import numpy as np\n",
    "s1=pd.Series([2,4,6,8,10])\n",
    "s2=pd.Series([1,3,5,7,9])\n",
    "\n",
    "data={\"Series1\":s1,\"Series2\":s2,\"Addition\":s1+s2}\n",
    "df1=pd.DataFrame(data)\n",
    "df1"
   ]
  },
  {
   "cell_type": "markdown",
   "metadata": {},
   "source": [
    "## Question 2:\n",
    "```[Quartiles] \n",
    "Write a Pandas program to compute the minimum, 25th percentile, median, 75th, and maximum of a given series. \n",
    "Sample Output:\n",
    "Original Series:\n",
    "0 3.000938\n",
    "1 11.370722\n",
    "2 14.612143\n",
    "3 8.990256\n",
    "4 13.925283\n",
    "5 12.056875\n",
    ".... 17 14.118931\n",
    "18 8.247458\n",
    "19 5.526727\n",
    "dtype: float64\n",
    "Minimum, 25th percentile, median, 75th, and maximum of a given series:\n",
    "[ 3.00093811 8.09463867 10.23353705 12.21537733 14.61214321]```\n"
   ]
  },
  {
   "cell_type": "code",
   "execution_count": 30,
   "metadata": {},
   "outputs": [
    {
     "data": {
      "text/html": [
       "<div>\n",
       "<style scoped>\n",
       "    .dataframe tbody tr th:only-of-type {\n",
       "        vertical-align: middle;\n",
       "    }\n",
       "\n",
       "    .dataframe tbody tr th {\n",
       "        vertical-align: top;\n",
       "    }\n",
       "\n",
       "    .dataframe thead th {\n",
       "        text-align: right;\n",
       "    }\n",
       "</style>\n",
       "<table border=\"1\" class=\"dataframe\">\n",
       "  <thead>\n",
       "    <tr style=\"text-align: right;\">\n",
       "      <th></th>\n",
       "      <th>Series1</th>\n",
       "    </tr>\n",
       "  </thead>\n",
       "  <tbody>\n",
       "    <tr>\n",
       "      <td>count</td>\n",
       "      <td>20.000000</td>\n",
       "    </tr>\n",
       "    <tr>\n",
       "      <td>mean</td>\n",
       "      <td>0.563128</td>\n",
       "    </tr>\n",
       "    <tr>\n",
       "      <td>std</td>\n",
       "      <td>0.299870</td>\n",
       "    </tr>\n",
       "    <tr>\n",
       "      <td>min</td>\n",
       "      <td>0.021255</td>\n",
       "    </tr>\n",
       "    <tr>\n",
       "      <td>25%</td>\n",
       "      <td>0.364615</td>\n",
       "    </tr>\n",
       "    <tr>\n",
       "      <td>50%</td>\n",
       "      <td>0.608235</td>\n",
       "    </tr>\n",
       "    <tr>\n",
       "      <td>75%</td>\n",
       "      <td>0.738973</td>\n",
       "    </tr>\n",
       "    <tr>\n",
       "      <td>max</td>\n",
       "      <td>0.986848</td>\n",
       "    </tr>\n",
       "  </tbody>\n",
       "</table>\n",
       "</div>"
      ],
      "text/plain": [
       "         Series1\n",
       "count  20.000000\n",
       "mean    0.563128\n",
       "std     0.299870\n",
       "min     0.021255\n",
       "25%     0.364615\n",
       "50%     0.608235\n",
       "75%     0.738973\n",
       "max     0.986848"
      ]
     },
     "execution_count": 30,
     "metadata": {},
     "output_type": "execute_result"
    }
   ],
   "source": [
    "from numpy import random\n",
    "a=random.rand(20)\n",
    "data={\"Series1\":a}\n",
    "df1=pd.DataFrame(data)\n",
    "df2=df1.describe()\n",
    "df2"
   ]
  },
  {
   "cell_type": "markdown",
   "metadata": {},
   "source": [
    "## Question 3:\n",
    "```[List Difference] \n",
    "Write a Pandas program to get the items of a given series not present in another given series. \n",
    "Sample Output:\n",
    "Original Series:\n",
    "sr1:\n",
    "0 1\n",
    "1 2\n",
    "2 3\n",
    "3 4\n",
    "4 5\n",
    "dtype: int64\n",
    "sr2:\n",
    "0 2\n",
    "1 4\n",
    "2 6\n",
    "3 8\n",
    "4 10\n",
    "dtype: int64\n",
    "Items of sr1 not present in sr2:\n",
    "0 1\n",
    "2 3\n",
    "4 5\n",
    "dtype: int64```\n"
   ]
  },
  {
   "cell_type": "code",
   "execution_count": 28,
   "metadata": {},
   "outputs": [
    {
     "name": "stdout",
     "output_type": "stream",
     "text": [
      "original series:\n",
      "0    1\n",
      "1    2\n",
      "2    3\n",
      "3    4\n",
      "4    5\n",
      "dtype: int64\n",
      "0     2\n",
      "1     4\n",
      "2     6\n",
      "3     8\n",
      "4    10\n",
      "dtype: int64\n",
      "elements of s1 not present in s2:\n"
     ]
    },
    {
     "data": {
      "text/plain": [
       "0    1\n",
       "2    3\n",
       "4    5\n",
       "dtype: int64"
      ]
     },
     "execution_count": 28,
     "metadata": {},
     "output_type": "execute_result"
    }
   ],
   "source": [
    "s1=pd.Series([1,2,3,4,5])\n",
    "s2=pd.Series([2,4,6,8,10])\n",
    "print(\"original series:\")\n",
    "print(s1)\n",
    "print(s2)\n",
    "print(\"elements of s1 not present in s2:\")\n",
    "result=s1[~s1.isin(s2)]\n",
    "result"
   ]
  },
  {
   "cell_type": "markdown",
   "metadata": {},
   "source": [
    "## Question 4:\n",
    "```[Filter Words with Multiple Vowels] \n",
    "Write a Pandas program to filter words from a given series that contain at least two vowels. \n",
    "Sample Output:\n",
    "Original Series:\n",
    "0 Red\n",
    "1 Green\n",
    "2 Orange\n",
    "3 Pink\n",
    "4 Yellow\n",
    "5 White\n",
    "dtype: object\n",
    "\n",
    "Filtered words:\n",
    "1 Green\n",
    "2 Orange\n",
    "4 Yellow\n",
    "5 White\n",
    "dtype: object```\n",
    "\n"
   ]
  },
  {
   "cell_type": "code",
   "execution_count": 38,
   "metadata": {},
   "outputs": [
    {
     "name": "stdout",
     "output_type": "stream",
     "text": [
      "Original Series:\n",
      "0       Red\n",
      "1     Green\n",
      "2    Orange\n",
      "3      Pink\n",
      "4    Yellow\n",
      "5     White\n",
      "dtype: object\n",
      "\n",
      "Filtered words:\n",
      "1     Green\n",
      "2    Orange\n",
      "4    Yellow\n",
      "5     White\n",
      "dtype: object\n"
     ]
    }
   ],
   "source": [
    "from collections import Counter\n",
    "color_series = pd.Series(['Red', 'Green', 'Orange', 'Pink', 'Yellow', 'White'])\n",
    "print(\"Original Series:\")\n",
    "print(color_series)\n",
    "print(\"\\nFiltered words:\")\n",
    "result = mask = color_series.map(lambda c: sum([Counter(c.lower()).get(i, 0) for i in list('aeiou')]) >= 2)\n",
    "print(color_series[result])"
   ]
  },
  {
   "cell_type": "markdown",
   "metadata": {},
   "source": [
    "## Question 5:\n",
    "\n",
    "```Consider the following as my DataFrame,Write a Pandas program to select the rows where the number of attempts in the examination is greater than 2.```\n",
    "\n"
   ]
  },
  {
   "cell_type": "code",
   "execution_count": 54,
   "metadata": {},
   "outputs": [
    {
     "name": "stdout",
     "output_type": "stream",
     "text": [
      "attempts greater than 2\n",
      "      name  score  attempts qualify\n",
      "b     Dima    9.0         3      no\n",
      "d    James    NaN         3      no\n",
      "f  Michael   20.0         3     yes\n"
     ]
    }
   ],
   "source": [
    "s1=pd.Series([\"Anastisa\",\"James\",\"Miachel\",\"Katherine\",\"Mathew\",\"Laura\"])\n",
    "s2=pd.Series([10,20,30,40,50,60])\n",
    "s3=pd.Series([1,1,3,2,1,3])\n",
    "s4=pd.Series([\"Yes\",\"No\",\"Yes\",\"No\",\"Yes\",\"Yes\"])\n",
    "data={\"Name\":s1,\"Score\":s2,\"Attempts\":s3,\"Qualify\":s4}\n",
    "df1=pd.DataFrame(data)\n",
    "print(\"attempts greater than 2\")\n",
    "print(df[(df['attempts'] > 2)])\n"
   ]
  },
  {
   "cell_type": "markdown",
   "metadata": {},
   "source": []
  },
  {
   "cell_type": "code",
   "execution_count": null,
   "metadata": {},
   "outputs": [],
   "source": []
  }
 ],
 "metadata": {
  "kernelspec": {
   "display_name": "Python 3",
   "language": "python",
   "name": "python3"
  },
  "language_info": {
   "codemirror_mode": {
    "name": "ipython",
    "version": 3
   },
   "file_extension": ".py",
   "mimetype": "text/x-python",
   "name": "python",
   "nbconvert_exporter": "python",
   "pygments_lexer": "ipython3",
   "version": "3.7.4"
  }
 },
 "nbformat": 4,
 "nbformat_minor": 2
}
